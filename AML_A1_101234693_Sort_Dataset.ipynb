{
  "nbformat": 4,
  "nbformat_minor": 0,
  "metadata": {
    "colab": {
      "provenance": []
    },
    "kernelspec": {
      "name": "python3",
      "display_name": "Python 3"
    },
    "language_info": {
      "name": "python"
    }
  },
  "cells": [
    {
      "cell_type": "code",
      "execution_count": null,
      "metadata": {
        "id": "MKYNqxQCLm_Y",
        "colab": {
          "base_uri": "https://localhost:8080/"
        },
        "outputId": "4a2358d0-bbe7-4c6a-f866-b60330490b19"
      },
      "outputs": [
        {
          "output_type": "stream",
          "name": "stdout",
          "text": [
            "Mounted at Mydrive\n"
          ]
        }
      ],
      "source": [
        "from google.colab import drive\n",
        "drive.mount('Mydrive')"
      ]
    },
    {
      "cell_type": "code",
      "source": [
        "import os\n",
        "import zipfile\n",
        "\n",
        "BASE_PATH = '/content/Mydrive/MyDrive/Colab Notebooks/CUB200'\n",
        "\n",
        "EXTRACT_PATH = '/tmp'\n",
        "\n",
        "TRAIN_ANNOTATION_PATH = f\"{BASE_PATH}/train.txt\"\n",
        "TEST_ANNOTATION_PATH = f\"{BASE_PATH}/test.txt\"\n",
        "\n",
        "SORTED_TRAIN_PATH = f\"{BASE_PATH}/train\"\n",
        "SORTED_TEST_PATH = f\"{BASE_PATH}/test\"\n",
        "\n",
        "CLASS_LABEL_PATH = f\"{BASE_PATH}/classlabel.txt\"\n"
      ],
      "metadata": {
        "id": "HT8HKQ5wp_vr"
      },
      "execution_count": null,
      "outputs": []
    },
    {
      "cell_type": "code",
      "source": [
        "with open(TRAIN_ANNOTATION_PATH, 'r') as file:\n",
        "    lines = file.readlines()\n",
        "\n",
        "# Extract unique class names and their ids\n",
        "class_map = {}\n",
        "for line in lines:\n",
        "    parts = line.strip().split(' ')\n",
        "    class_name = '_'.join(parts[0].split('_')[:-2])  # Extract class name from image name\n",
        "    class_id = parts[1]\n",
        "    class_map[class_name] = class_id\n",
        "\n",
        "# Write to classlabel.txt\n",
        "with open(CLASS_LABEL_PATH, 'w') as file:\n",
        "    for class_name, class_id in class_map.items():\n",
        "        class_name = class_name.replace(\"_\", \" \")\n",
        "        file.write(f\"{class_name} - {class_id}\\n\")\n",
        "\n",
        "print(\"classlabel.txt created!\")"
      ],
      "metadata": {
        "colab": {
          "base_uri": "https://localhost:8080/"
        },
        "id": "mydjlhZdnh2L",
        "outputId": "c6f5fabd-635b-40be-ae50-54bece903cb0"
      },
      "execution_count": null,
      "outputs": [
        {
          "output_type": "stream",
          "name": "stdout",
          "text": [
            "classlabel.txt created!\n"
          ]
        }
      ]
    },
    {
      "cell_type": "code",
      "source": [
        "local_zip = f\"{BASE_PATH}/Train.zip\"\n",
        "zip_ref = zipfile.ZipFile(local_zip, 'r')\n",
        "zip_ref.extractall('/tmp')\n",
        "zip_ref.close()\n",
        "\n",
        "local_zip = f\"{BASE_PATH}/Test.zip\"\n",
        "zip_ref = zipfile.ZipFile(local_zip, 'r')\n",
        "zip_ref.extractall('/tmp')\n",
        "zip_ref.close()"
      ],
      "metadata": {
        "id": "k-rbWWvoOzZm"
      },
      "execution_count": null,
      "outputs": []
    },
    {
      "cell_type": "code",
      "source": [
        "import shutil\n",
        "\n",
        "# Sort images into respective folders based on annotations\n",
        "def sort_images_by_annotation(annotation_path, sorted_folder_path, source_folder_path):\n",
        "    # Read annotations\n",
        "    with open(annotation_path, 'r') as file:\n",
        "        lines = file.readlines()\n",
        "\n",
        "    # Extract file names and labels\n",
        "    file_names, labels = [], []\n",
        "    for line in lines:\n",
        "        file_name, label = line.strip().split(' ')\n",
        "        file_names.append(file_name)\n",
        "        labels.append(label)\n",
        "\n",
        "    # Create folders for each unique label\n",
        "    for label in set(labels):\n",
        "        os.makedirs(f\"{sorted_folder_path}/{label}\", exist_ok=True)\n",
        "\n",
        "    # Copy images to their respective label folders\n",
        "    for file_name, label in zip(file_names, labels):\n",
        "        source_path = f\"{source_folder_path}/{file_name}\"\n",
        "        destination_path = f\"{sorted_folder_path}/{label}/{file_name}\"\n",
        "        shutil.copy(source_path, destination_path)"
      ],
      "metadata": {
        "id": "I1En-sjSOHbR"
      },
      "execution_count": null,
      "outputs": []
    },
    {
      "cell_type": "code",
      "source": [
        "TrainPath = f\"{EXTRACT_PATH}/Train\"\n",
        "TestPath = f\"{EXTRACT_PATH}/Test\""
      ],
      "metadata": {
        "id": "K8uKPc_iOMwH"
      },
      "execution_count": null,
      "outputs": []
    },
    {
      "cell_type": "code",
      "source": [
        "sort_images_by_annotation(TRAIN_ANNOTATION_PATH, SORTED_TRAIN_PATH, TrainPath)"
      ],
      "metadata": {
        "id": "Kc3n_V52YnxQ"
      },
      "execution_count": null,
      "outputs": []
    },
    {
      "cell_type": "code",
      "source": [
        "sort_images_by_annotation(TEST_ANNOTATION_PATH, SORTED_TEST_PATH, TestPath)"
      ],
      "metadata": {
        "id": "9aUB3PzkXSHs"
      },
      "execution_count": null,
      "outputs": []
    }
  ]
}